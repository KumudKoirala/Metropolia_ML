{
 "cells": [
  {
   "cell_type": "markdown",
   "id": "01416550",
   "metadata": {},
   "source": [
    "# Model Evaluation\n",
    "After we have trained our machine learning model, we need to verify the quality of the trained model. We measure the trained model performance on new and neverseen dataset. Model evaluation answers some of the following questions:\n",
    "- How good our model is working? \n",
    "- is model accurate enough to use into production?\n",
    "- Will a performance of  our model improves by feeding it with large datasets?\n"
   ]
  },
  {
   "cell_type": "markdown",
   "id": "a85751cd",
   "metadata": {},
   "source": [
    "## Train-Test Split \n"
   ]
  },
  {
   "cell_type": "markdown",
   "id": "d86e9bda",
   "metadata": {},
   "source": [
    "In train test split , we split our whole dataset into training and test dataset(Shown in Figure 5.1). The training set has a known output/label and the model would be trained with our training set . We use test dataset to test the trained model .\n",
    "![Figure_5_1.png](images/Figure_5_1.png). In the example we are going to use a popular iris data set to split our whole data set into training and test data. "
   ]
  },
  {
   "cell_type": "code",
   "execution_count": 6,
   "id": "098bdbbb",
   "metadata": {
    "ExecuteTime": {
     "end_time": "2022-01-09T10:09:44.903063Z",
     "start_time": "2022-01-09T10:09:44.886064Z"
    }
   },
   "outputs": [
    {
     "name": "stdout",
     "output_type": "stream",
     "text": [
      "The shape of X_train is (135, 4)\n",
      "The shape of X_test is (15, 4)\n",
      "The shape of y_train is (135,)\n",
      "The shape of y_test is (135,)\n",
      "The shape of whole data set  is (150, 4)\n"
     ]
    }
   ],
   "source": [
    "from sklearn.datasets import load_iris\n",
    "from sklearn.model_selection import train_test_split\n",
    "\n",
    "iris=load_iris() \n",
    "X_train,X_test,y_train,y_test=train_test_split(iris.data,iris.target,test_size=0.1) # test size is 10 % of whole dataset\n",
    "\n",
    "\n",
    "# Now let us check the shape of X_train,X_test,y_train,y_test and the whole dataset\n",
    "print(f\"The shape of X_train is {X_train.shape}\")\n",
    "print(f\"The shape of X_test is {X_test.shape}\")\n",
    "print(f\"The shape of y_train is {y_train.shape}\")\n",
    "print(f\"The shape of y_test is {y_train.shape}\")\n",
    "print(f\"The shape of whole data set  is {iris.data.shape}\")"
   ]
  },
  {
   "cell_type": "markdown",
   "id": "6f2b97a2",
   "metadata": {},
   "source": [
    "We can see from above example our whole data set is divided into train and test data set where 90% of dataset is train data where as 10% of dataset is test dataset."
   ]
  },
  {
   "cell_type": "markdown",
   "id": "6083fe8a",
   "metadata": {},
   "source": [
    "## K- Fold Cross Validation (K-Fold CV)"
   ]
  },
  {
   "cell_type": "markdown",
   "id": "be7eb8bc",
   "metadata": {},
   "source": [
    "So now we know how to split data into train and test dataset , K- Fold CV uses the same operation but in iterative way. As shown in the figure 5.2, we can see that the whole data set has been divided in train and test set in 5 different combination. In each combination of dataset , test and train partition has been taken randomly. So when training and testing a model , we are going to do the operation 5 times which is determined by the value of K. K is a user specifed number which is usually 5 or 10 . \n",
    "![Figure_5_2.png](images/Figure_5_2.png)\n"
   ]
  },
  {
   "cell_type": "code",
   "execution_count": 6,
   "id": "7cbd19fb",
   "metadata": {
    "ExecuteTime": {
     "end_time": "2022-01-17T09:43:28.462502Z",
     "start_time": "2022-01-17T09:43:28.354787Z"
    },
    "scrolled": true
   },
   "outputs": [
    {
     "name": "stdout",
     "output_type": "stream",
     "text": [
      "cross-val score is [0.96666667 1.         0.93333333 0.96666667 1.        ]\n",
      "------------------------------------------------------------------\n",
      "The average score is 0.9733333333333334\n"
     ]
    }
   ],
   "source": [
    "from sklearn.model_selection import cross_val_score\n",
    "from sklearn.datasets import load_iris\n",
    "from sklearn.linear_model import LogisticRegression\n",
    "\n",
    "iris=load_iris()\n",
    "X=iris.data  # load features to X\n",
    "y=iris.target # load target to y \n",
    "logreg= LogisticRegression(max_iter=200) # instantiate the class LogisticRegression\n",
    "scores=cross_val_score(logreg,X,y,cv=5) # Here we choose K =5 (cv=5)\n",
    "print(f\"cross-val score is {scores}\")\n",
    "print(\"------------------------------------------------------------------\")\n",
    "print(f\"The average score is {scores.mean()}\")"
   ]
  },
  {
   "cell_type": "markdown",
   "id": "237060a2",
   "metadata": {},
   "source": [
    "Here we have different accuracy in 5 different iteration. The average accuracy is 97.33%. We can conclude that the model (Logistic Regression) for this dataset(iris) is 97.33% accurate ."
   ]
  },
  {
   "cell_type": "markdown",
   "id": "3a48c532",
   "metadata": {},
   "source": [
    "# Exercise For Students"
   ]
  },
  {
   "cell_type": "markdown",
   "id": "31b78554",
   "metadata": {},
   "source": [
    "In this exercise we are going to apply K cross fold validation for both linear and logistic regression examples in chapter 2 without any train and test split . "
   ]
  },
  {
   "cell_type": "markdown",
   "id": "3e97e1f2",
   "metadata": {},
   "source": [
    "## K-fold CV Linear Regression"
   ]
  },
  {
   "cell_type": "code",
   "execution_count": null,
   "id": "ab1985d2",
   "metadata": {},
   "outputs": [],
   "source": [
    "from sklearn.datasets import make_regression # please refer: https://scikit-learn.org/stable/modules/generated/sklearn.datasets.make_regression.html\n",
    "from sklearn.linear_model import LinearRegression\n",
    "\n",
    "# TO DO By Students: \n",
    "# Instantiate make_regression(use random_state=100) \n",
    "# Instantiate linear regression \n",
    "# use cross_val_score for k=10\n",
    "# compare the result \n",
    "#START YOUR CODE DOWN BELOW IN THIS CELL"
   ]
  },
  {
   "cell_type": "markdown",
   "id": "4f0bb9c3",
   "metadata": {},
   "source": [
    "##  K-Fold CV Logistic Regression"
   ]
  },
  {
   "cell_type": "code",
   "execution_count": null,
   "id": "92196698",
   "metadata": {},
   "outputs": [],
   "source": [
    "from sklearn.datasets import load_breast_cancer  # like iris in example we are going to use breast cancer data\n",
    "                                                 # Refer sklearn documentation https://scikit-learn.org/stable/modules/generated/sklearn.datasets.load_breast_cancer.html\n",
    "\n",
    "from sklearn.model_selection import train_test_split\n",
    "from sklearn.linear_model import LogisticRegression\n",
    "\n",
    "\n",
    "\n",
    "## TO DO BY STUDENT \n",
    "# Instantiate load_breast_cancer to an object and get the features and target values\n",
    "# Instantiate Logistic Regression\n",
    "# Use cross_val_score for k=5\n",
    "# Compare the results  \n",
    "#START YOUR CODE DOWN BELOW IN THIS CELL\n",
    "\n"
   ]
  }
 ],
 "metadata": {
  "kernelspec": {
   "display_name": "Python 3",
   "language": "python",
   "name": "python3"
  },
  "language_info": {
   "codemirror_mode": {
    "name": "ipython",
    "version": 3
   },
   "file_extension": ".py",
   "mimetype": "text/x-python",
   "name": "python",
   "nbconvert_exporter": "python",
   "pygments_lexer": "ipython3",
   "version": "3.8.8"
  },
  "latex_envs": {
   "LaTeX_envs_menu_present": true,
   "autoclose": false,
   "autocomplete": true,
   "bibliofile": "biblio.bib",
   "cite_by": "apalike",
   "current_citInitial": 1,
   "eqLabelWithNumbers": true,
   "eqNumInitial": 1,
   "hotkeys": {
    "equation": "Ctrl-E",
    "itemize": "Ctrl-I"
   },
   "labels_anchors": false,
   "latex_user_defs": false,
   "report_style_numbering": false,
   "user_envs_cfg": false
  },
  "toc": {
   "base_numbering": 1,
   "nav_menu": {},
   "number_sections": true,
   "sideBar": true,
   "skip_h1_title": false,
   "title_cell": "Table of Contents",
   "title_sidebar": "Contents",
   "toc_cell": false,
   "toc_position": {},
   "toc_section_display": true,
   "toc_window_display": true
  }
 },
 "nbformat": 4,
 "nbformat_minor": 5
}
