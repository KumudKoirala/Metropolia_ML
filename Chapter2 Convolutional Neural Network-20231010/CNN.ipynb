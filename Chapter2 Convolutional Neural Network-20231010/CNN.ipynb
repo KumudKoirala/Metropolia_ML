{
 "cells": [
  {
   "cell_type": "markdown",
   "id": "c49d83cd",
   "metadata": {},
   "source": [
    "# CONVOLUTIONAL NEURAL NETWORK(CNN)"
   ]
  },
  {
   "cell_type": "markdown",
   "id": "65c486cd",
   "metadata": {},
   "source": [
    "Convolutional Neural Networks(CNN) is a deep learning model used in computer vision applications. CNN is also known as covnets.The process of convolution measures the impact of one signal when it is integrated with another signal.One of the main application of convolution is to find the patterns in signals.One example of convolution application could be an averaging filter which is commonly used in image processing.\n",
    "\n",
    "Let us consider training an image recognition system to identify an object.The input images are of size 32x32x3 which means they have 3 channels of width 32 and height 32. To fed the input of such large size to multi-layer Neural Network would be challenging and computationally expensive.The parameter explosion resulting from such a large image features would also result in overfitting.CNN are specifically designed to overcome this problem where the inputs are arranged in the grid like shape as found in images.CNN have layered structured in which volume of one layer is connected to relevant region of the next layer and therefore any parameter explosion is prevented.\n",
    "\n",
    "\n",
    "\n"
   ]
  },
  {
   "cell_type": "markdown",
   "id": "054bc21d",
   "metadata": {},
   "source": [
    "# CNN Layers"
   ]
  },
  {
   "cell_type": "markdown",
   "id": "4c7b2bda",
   "metadata": {},
   "source": [
    "CNN consists of series of layers which performs transformation on an input image array. In this section we are going to look at some important layers that are use to build a CNN."
   ]
  },
  {
   "cell_type": "markdown",
   "id": "89cd2d66",
   "metadata": {
    "ExecuteTime": {
     "end_time": "2022-08-21T09:11:24.538882Z",
     "start_time": "2022-08-21T09:11:24.531846Z"
    }
   },
   "source": [
    "## Convolution Layer"
   ]
  },
  {
   "cell_type": "markdown",
   "id": "89796bea",
   "metadata": {},
   "source": [
    "To understand the process of convolution,we start with an image as our input.The images are the arrangement of pixels in some given order.The images can have multiple pixel layers which are called channels.The images uses decimal values from 0 to 255. RGB images uses different channel for red, green and blue colors which are known as primary color. The proper mixture of these colors gives other different colors. \n",
    "\n",
    "Convolution process works on some fixed image size through out all the channels at the same time. The convolution carries out transformation process over  the image which is also known as filtering.The output generated after applying the filter is known as feature map.  A convolutional window  has some fixed size which is moved over an image with a certain amount known as stride. A stride of 1 means the window is moving 1 pixel towards the right or bottom, a stride of 2 means , moving with 2 pixel.\n",
    "\n",
    "Each movement of convolutional window over the image with given stride results filtering operation with a kernel of same size. Kernal is small matrix used for blurring,sharpening,embossing,edge detection ,etc.The kernel is chosen based on the question statement.This kernal moves through out the image , then you have the filtered image.\n",
    "\n",
    "Convolution learns a image patterns and can retrace them in any other part of the image.The more stacked convolution helps the network to learn more complex and useful patterns for image recognition. If a  first convolutional layer  can grasp the pattern of a dog,the second layer can recreate more chatacteristic dog features that provides sufficient data for the neural network in recognizing the dogs.\n",
    "\n"
   ]
  },
  {
   "cell_type": "markdown",
   "id": "fc170de6",
   "metadata": {
    "ExecuteTime": {
     "end_time": "2022-09-06T08:25:03.758677Z",
     "start_time": "2022-09-06T08:25:03.721765Z"
    }
   },
   "source": [
    "![figure_1.png](images/figure_1.png)"
   ]
  },
  {
   "cell_type": "markdown",
   "id": "80e0dba5",
   "metadata": {},
   "source": [
    "The figure 1.1 above shows a kernel of size 2x2(filtering window of 2x2) convoluted with an image of 2 dimensions. A stride of 1 causes the convolution window to move one pixel left/ bottoms to get the sum of products as an output. \n",
    "Padding in convolution refers to the process of adding an amount of pixels of zero value around the border of image. Padding extends the area of an image in which a CNN process.In example above , we can see that the input pixel at the border($a,d,i,l$) are only used once whereas other pixels are used more than once.Beacuse of this the information at the border is not preserved so well and therefore padding is an excellent solution to prevent such data leakage. An input image with padding=1 is shown in the figure below."
   ]
  },
  {
   "cell_type": "markdown",
   "id": "9dd56541",
   "metadata": {
    "ExecuteTime": {
     "end_time": "2022-09-07T12:28:57.654342Z",
     "start_time": "2022-09-07T12:28:57.603495Z"
    }
   },
   "source": [
    "![figure_2.png](images/figure_2.png)"
   ]
  },
  {
   "cell_type": "markdown",
   "id": "bfa6b595",
   "metadata": {},
   "source": [
    "The choice of kernel size , stride, and zero padding affects the size of the output/feature map. Let us consider some parameters below:\n",
    "- $  W_{in} \\ \\text { is width of an input , For eg 32x8 image pixel size $W_{in}=8$}  $\n",
    "- $  H_{in} \\ \\text { is height of  an input , For eg 32x8 image pixel size $H_{in}=32$}  $\n",
    "- $  D_{in} \\ \\text { is depth/channel of an input , For eg gray scale image as D_{in}=1 , non-gray } D_{in}=3 $\n",
    "- $  p \\ \\text{is equal zero padding along both axes}  $\n",
    "- $  k \\ \\text{is square kernel size} $\n",
    "- $  s \\ \\text {is same stride along both axes} $\n",
    "- $  o \\ \\text{is the size of an output}   $\n",
    "\n",
    "The size of an output feature map $H_{out} \\times W_{out}  $ is given as \n",
    "$$ W_{out}= \\frac{W_{in}+2p-k}{s}+1   , H_{out}= \\frac{H_{in}+2p-k}{s}+1   $$"
   ]
  },
  {
   "cell_type": "markdown",
   "id": "2e600d1b",
   "metadata": {},
   "source": [
    "In addition to above parameter definition, we have an extra parameter known as number of kernel filters. This indicates how many kernel filters we are going to use for the CNN to learn. The output depth/channels of feature map is always equal to the number of kernel filters used in the convolution process.A bias is added to the each of those kernel filters.\n",
    "\n",
    "As an example consider an input image of size $10 \\times 10 \\times 3$  where $ W_{in}=10 ,   H_{in}=10  ,D_{in}=3  $ and , $s=1, p=0,k=3$. The number of kernel filters used for a convolution layer is $filters =5 $. The $ H_{out} =8 ,  W_{out}=8   $ which is calculated using equation(1).The $D_{out}=5$ which is equal to the number of kernel filters used in this layer. Thus the output size is $(8 \\times 8 \\times 5)$. This means we have 5 output matrixes each with size of $(8 \\times 8 )$.\n",
    "\n",
    "Let us calculate total number of parameters for this convolution layer.\n",
    " - parameters in one kernel filter of size (3,3)= 9. Each Filter will convolve with three different channels of image.\n",
    "   Parameters in one filter = $D_{in} \\times \\text{parameters in one filter}  $ = $9  \\times 3$=27\n",
    "   \n",
    " - Each filtered output has one bias added $\\text bias=1 $. Therefore  Parameters in one filter = 27 +1 =28\n",
    " \n",
    " - We have five such kernel filters, therefore total parameters = $28 \\times 5$=140\n",
    "\n",
    "Thus $\\text {total number of parameters} = \\text{ number of kernel filters} \\times (\\text { number of elements in kernel matrix} \\times {D_{in}}+ bias) $"
   ]
  },
  {
   "cell_type": "markdown",
   "id": "f2b28de2",
   "metadata": {
    "ExecuteTime": {
     "end_time": "2022-08-21T09:11:39.212048Z",
     "start_time": "2022-08-21T09:11:39.207043Z"
    }
   },
   "source": [
    "## Pooling / Subsampling Layer "
   ]
  },
  {
   "cell_type": "markdown",
   "id": "90fd673f",
   "metadata": {},
   "source": [
    "As we keep on adding convolution layer to get the most out of the data, the depth of the output layer increases too which results in the increasing of number of parameters. The increase in network dimensionality will increase the time and space complexity.This is when a pooling/Subsampling layer comes in action. A pooling layer immediately follows after a convolutional layer. The pooling layer downsample the output of a convolution layer along the dimensions.The pooling layer reduces the number of learning parametes thus reducing  the overfitting situation and increases the overall performance and accuracy of the network.One of the most common pooling technique that is in use  is known as Max Pooling.\n",
    "Similar to convolutional's kernel, max pooling kernels are windows of a certain size and strides value that slide over the image.However these max pool kernel doesnot have any kernel value and selects the max pixel value within the window for the next layer.\n",
    "In Average pooling, a feature map for each pooled aread is replaced by a single value which is the average of the values inside the pooled area.\n"
   ]
  },
  {
   "cell_type": "markdown",
   "id": "38c3eb85",
   "metadata": {},
   "source": [
    "Let us consider an output image obtained by using a convolution layer example in the above section. The feature map of size $8\\times 8 \\times 5 $ is now fed to a Max pooling layer with stride $s_{p}=2$ and kernel size $k_{p}=2$. The output size of the pooling layer for the input $H_{out} \\times W_{out} \\times D_{out}$ is  defined as \n",
    "\n",
    "$$ (\\frac {H_{out}-k_{p}} {s} +1)  \\times (\\frac {W_{out}-k_{p}} {s} +1) \\times D_{out}=3 \\times 3 \\times 5 $$ \n",
    "\n",
    "The number of channels doesnot change because the pooling is applied to each of the channels independently.There are no  parameters to learn in max pooling."
   ]
  },
  {
   "cell_type": "markdown",
   "id": "931b80f6",
   "metadata": {},
   "source": [
    "## Batch Normalization Layer"
   ]
  },
  {
   "cell_type": "markdown",
   "id": "0f808bc0",
   "metadata": {},
   "source": [
    "Every CNN layer has certain parameters or weight that gets trained over some period with a training dataset.However the choice of initial weight for newtwork initialization plays a crucial role on the speed of convergenve of network training. Batch Normalization aims to be robust to problems of poor network initialization. \n",
    "Normalization is a method to make different samples seen by a machine learning model more similar to each other. This helps model learn and generalize well to new data. The common way to generalize normalize the data is to centering the data on zero by subtracting the mean from the data and giving the data Standard Deviation of 1 by dividing the data by its standard deviation. "
   ]
  },
  {
   "cell_type": "markdown",
   "id": "e97a72ea",
   "metadata": {},
   "source": [
    "## Drop Out Layer"
   ]
  },
  {
   "cell_type": "markdown",
   "id": "2fcaf815",
   "metadata": {},
   "source": [
    "Dropout is one of the most effective and most commonly used regularizatiion techniques for neural networks.Dropout layer randomly sets some of the output of neurons to zeros. For example, Consider a vector consisting as an output of neurons [0.1, 2.4 , 0.5 ,0.3,0.6 ] which when applied to drop out layer may set this vector to  [0.1, 2.4 , 0 ,0.3,0]. The dropout rate is the fraction of output that are set to zero and are usually set between 0.2 and 0.5.\n",
    "Adding a dropout rate to particular layer turns off the neuron at that layer. "
   ]
  },
  {
   "cell_type": "markdown",
   "id": "6998da96",
   "metadata": {},
   "source": [
    "## Fully Connected(FC) Layer"
   ]
  },
  {
   "cell_type": "markdown",
   "id": "2e4d06b4",
   "metadata": {},
   "source": [
    "The final layer of CNN is known as full connected layer or the dense layer.Fully Connected layer can be implemented using feed forward neural network(Multi Layer Perceptron(MLP)) as shown in chapter-1 (figure 1.3). Neurons in this layer are fully connected to all the activations in the previous layer. The output of this layer is usually the class score where the number of neurons(at the output layer) equals the number of classes.\n",
    "Each Layer works in the different ways and the parameters in these layers are learned through a gradient descent based algorithm using back propagation(see chapter-1).MLP works greats in classification problem.\n"
   ]
  },
  {
   "cell_type": "markdown",
   "id": "3b9d4794",
   "metadata": {},
   "source": [
    "# Loss Functions in CNN"
   ]
  },
  {
   "cell_type": "markdown",
   "id": "f15ee024",
   "metadata": {},
   "source": [
    "CNN uses gradient descent based algorithm to minimize the cost function.Since the CNN is more of classification problem, cross-entropy loss is more used with CNN. The underlying math for cross-entropy and logistic loss(see the beginner module) is same. The only difference is that logistic loss is used when there two possible classes where as cross entropy is used for more than two classes.\n",
    "Cross entropy is a measure of the difference between two probability distribution.Binary cross cnrtopy is used when there are two possible outcomes and one needs to be selected."
   ]
  },
  {
   "cell_type": "markdown",
   "id": "9c02637e",
   "metadata": {},
   "source": [
    "# Fashion Mnist Dataset"
   ]
  },
  {
   "cell_type": "markdown",
   "id": "19481887",
   "metadata": {},
   "source": [
    "In this example , we are going to import the dataset from fashion_mnist . We will be training our model to train some fashion products such as t-shirt, shoes,pull over . There are 10 different products. Our model is going to learn to identify these products using CNN. To keep things simple , we will be using same framework that we had used in deep learning chapter. Always remember that it doesnot matter what framework you use or how good you are in programming , it is always important to learn the concept!Do not focus so much on optimizing the code  . "
   ]
  },
  {
   "cell_type": "markdown",
   "id": "9b972f82",
   "metadata": {},
   "source": [
    "* 2d convolutional layer with:\n",
    "    * one input channel\n",
    "    * 6 output channels\n",
    "    * kernel size 3 (no padding)\n",
    "    * followed by ReLU\n",
    "* 2d convolutional layer with:\n",
    "    * 16 output channels\n",
    "    * kernel size 3 (no padding)\n",
    "    * followed by ReLU\n",
    "* Max-pooling layer with kernel size 2 and stride 2\n",
    "* 2d convolutional layer with:\n",
    "    * 16 output channels\n",
    "    * kernel size 3 (no padding)\n",
    "    * followed by ReLU\n",
    "* 2d convolutional layer with:\n",
    "    * 16 output channels\n",
    "    * kernel size 3 (no padding)\n",
    "    * followed by ReLU\n",
    "* Max-pooling layer with kernel size 2 and stride 2\n",
    "* A fully-connected layer with:\n",
    "    * 128 outputs\n",
    "    * followed by ReLU\n",
    "* A fully-connected layer with 10 outputs and with softmax activation function."
   ]
  },
  {
   "cell_type": "code",
   "execution_count": 4,
   "id": "5f6e073e",
   "metadata": {
    "ExecuteTime": {
     "end_time": "2022-10-28T13:52:38.633468Z",
     "start_time": "2022-10-28T13:52:30.621365Z"
    }
   },
   "outputs": [],
   "source": [
    "from numpy.random import seed \n",
    "seed(1)\n",
    "import tensorflow as tf\n",
    "tf.random.set_seed(2)\n",
    "from tensorflow.keras import datasets,layers,models\n",
    "from tensorflow.keras.layers import Dense, BatchNormalization, Conv2D, MaxPooling2D\n",
    "from tensorflow.keras.preprocessing.image import ImageDataGenerator\n",
    "from tensorflow.keras.losses import SparseCategoricalCrossentropy\n",
    "from tensorflow.keras.models import Sequential\n",
    "from tensorflow import keras\n",
    "import matplotlib.pyplot as plt \n",
    "from keras.datasets  import mnist\n",
    "from sklearn.model_selection import train_test_split\n",
    "import numpy as np\n"
   ]
  },
  {
   "cell_type": "code",
   "execution_count": 5,
   "id": "be405f9b",
   "metadata": {
    "ExecuteTime": {
     "end_time": "2022-10-28T13:53:19.195545Z",
     "start_time": "2022-10-28T13:53:18.853506Z"
    }
   },
   "outputs": [],
   "source": [
    "(X, y),(x_val, y_val) = datasets.fashion_mnist.load_data()"
   ]
  },
  {
   "cell_type": "code",
   "execution_count": 6,
   "id": "009061e1",
   "metadata": {
    "ExecuteTime": {
     "end_time": "2022-10-28T13:53:33.575656Z",
     "start_time": "2022-10-28T13:53:33.546521Z"
    }
   },
   "outputs": [],
   "source": [
    "x_train,x_test,y_train,y_test=train_test_split(X,y,test_size=0.2,random_state=42)"
   ]
  },
  {
   "cell_type": "code",
   "execution_count": 7,
   "id": "5da97325",
   "metadata": {
    "ExecuteTime": {
     "end_time": "2022-10-28T13:53:34.405606Z",
     "start_time": "2022-10-28T13:53:34.397607Z"
    }
   },
   "outputs": [
    {
     "name": "stdout",
     "output_type": "stream",
     "text": [
      "The shape of x_train is :(48000, 28, 28)\n",
      "The shape of x_valid is :(10000, 28, 28)\n",
      "The shape of y_train is :(48000,)\n",
      "The shape of y_valid is :(10000,)\n",
      "The shape of x_test is :(12000, 28, 28)\n",
      "The shape of y_test is :(12000,)\n"
     ]
    }
   ],
   "source": [
    "print(f'The shape of x_train is :{x_train.shape}') ## train data\n",
    "print(f'The shape of x_valid is :{x_val.shape}') ## validation data \n",
    "print(f'The shape of y_train is :{y_train.shape}') ##  validation labels \n",
    "print(f'The shape of y_valid is :{y_val.shape}')## test labels \n",
    "print(f'The shape of x_test is :{x_test.shape}') ##  validation labels \n",
    "print(f'The shape of y_test is :{y_test.shape}')## test labels "
   ]
  },
  {
   "cell_type": "code",
   "execution_count": 8,
   "id": "5e45d105",
   "metadata": {
    "ExecuteTime": {
     "end_time": "2022-10-28T13:53:36.070162Z",
     "start_time": "2022-10-28T13:53:36.054160Z"
    }
   },
   "outputs": [
    {
     "name": "stdout",
     "output_type": "stream",
     "text": [
      "10\n"
     ]
    }
   ],
   "source": [
    "len_of_class = len(np.unique(y_train))\n",
    "print(len_of_class)"
   ]
  },
  {
   "cell_type": "code",
   "execution_count": 9,
   "id": "cfd29e10",
   "metadata": {
    "ExecuteTime": {
     "end_time": "2022-10-28T13:53:36.616242Z",
     "start_time": "2022-10-28T13:53:36.606212Z"
    }
   },
   "outputs": [],
   "source": [
    "# In reality these class names are label encoded with some numercial values from 0 to  9(try print(y_tain)or print(y_test))\n",
    "#  so for ease i have used human understable terms \n",
    "# such  as t-shirt, shirt etc.\n",
    "# BUT remember to use numerical values  for labels, text doesnot work for learning !!!!!!\n",
    "\n",
    "class_names = ['T-shirt/top', 'Trouser', 'Pullover', 'Dress', 'Coat',\n",
    "               'Sandal',      'Shirt',   'Sneaker',  'Bag',   'Ankle boot']"
   ]
  },
  {
   "cell_type": "code",
   "execution_count": 10,
   "id": "272a07b0",
   "metadata": {
    "ExecuteTime": {
     "end_time": "2022-10-28T13:53:38.757862Z",
     "start_time": "2022-10-28T13:53:38.514790Z"
    }
   },
   "outputs": [
    {
     "data": {
      "image/png": "[encoded data removed]",
      "text/plain": [
       "<Figure size 720x576 with 6 Axes>"
      ]
     },
     "metadata": {},
     "output_type": "display_data"
    }
   ],
   "source": [
    "fig,axs=plt.subplots(2,3,figsize=(10,8),facecolor='w',edgecolor='k')\n",
    "for image,label, ax in zip(x_train,y_train,axs.ravel()):\n",
    "    ax.imshow(image)\n",
    "    ax.set_title(f'product type {class_names[label]}')\n",
    "    ax.set_xticks([])\n",
    "    ax.set_yticks([])"
   ]
  },
  {
   "cell_type": "code",
   "execution_count": 11,
   "id": "28ee28da",
   "metadata": {
    "ExecuteTime": {
     "end_time": "2022-10-28T13:53:41.420840Z",
     "start_time": "2022-10-28T13:53:40.512413Z"
    }
   },
   "outputs": [],
   "source": [
    "model = Sequential([\n",
    "                   layers.Rescaling(1./255, input_shape=(28,28,1)),\n",
    "                   layers.Conv2D(32,3, padding='same',activation='relu'),\n",
    "                   layers.Conv2D(32,3, padding='same',activation='relu'),\n",
    "                   layers.MaxPooling2D(pool_size=(2,2)),\n",
    "                   layers.Conv2D(64,3,padding='same',activation='relu'),\n",
    "                   layers.Conv2D(64,3,padding='same',activation='relu'),\n",
    "                   layers.MaxPooling2D(pool_size=(2,2)),\n",
    "                   layers.Flatten(), # always flatten before you feed to forward Neural Network \n",
    "                   layers.Dense(128,activation='relu'),\n",
    "                   layers.Dense(len_of_class,activation='softmax') # last layer should consists of number of neurons=number of classes\n",
    "                   ])\n"
   ]
  },
  {
   "cell_type": "code",
   "execution_count": 12,
   "id": "162b99b9",
   "metadata": {
    "ExecuteTime": {
     "end_time": "2022-10-28T13:53:41.455827Z",
     "start_time": "2022-10-28T13:53:41.423829Z"
    }
   },
   "outputs": [
    {
     "name": "stdout",
     "output_type": "stream",
     "text": [
      "Model: \"sequential\"\n",
      "_________________________________________________________________\n",
      "Layer (type)                 Output Shape              Param #   \n",
      "=================================================================\n",
      "rescaling (Rescaling)        (None, 28, 28, 1)         0         \n",
      "_________________________________________________________________\n",
      "conv2d (Conv2D)              (None, 28, 28, 32)        320       \n",
      "_________________________________________________________________\n",
      "conv2d_1 (Conv2D)            (None, 28, 28, 32)        9248      \n",
      "_________________________________________________________________\n",
      "max_pooling2d (MaxPooling2D) (None, 14, 14, 32)        0         \n",
      "_________________________________________________________________\n",
      "conv2d_2 (Conv2D)            (None, 14, 14, 64)        18496     \n",
      "_________________________________________________________________\n",
      "conv2d_3 (Conv2D)            (None, 14, 14, 64)        36928     \n",
      "_________________________________________________________________\n",
      "max_pooling2d_1 (MaxPooling2 (None, 7, 7, 64)          0         \n",
      "_________________________________________________________________\n",
      "flatten (Flatten)            (None, 3136)              0         \n",
      "_________________________________________________________________\n",
      "dense (Dense)                (None, 128)               401536    \n",
      "_________________________________________________________________\n",
      "dense_1 (Dense)              (None, 10)                1290      \n",
      "=================================================================\n",
      "Total params: 467,818\n",
      "Trainable params: 467,818\n",
      "Non-trainable params: 0\n",
      "_________________________________________________________________\n"
     ]
    }
   ],
   "source": [
    "model.summary()"
   ]
  },
  {
   "cell_type": "code",
   "execution_count": 13,
   "id": "63e2000a",
   "metadata": {
    "ExecuteTime": {
     "end_time": "2022-10-28T13:53:43.554124Z",
     "start_time": "2022-10-28T13:53:43.533128Z"
    }
   },
   "outputs": [],
   "source": [
    "model.compile(optimizer='adam',\n",
    "              loss=tf.keras.losses.SparseCategoricalCrossentropy(),\n",
    "              metrics=['accuracy'])"
   ]
  },
  {
   "cell_type": "code",
   "execution_count": 14,
   "id": "f34dbeed",
   "metadata": {
    "ExecuteTime": {
     "end_time": "2022-10-28T14:32:35.989031Z",
     "start_time": "2022-10-28T13:53:44.172590Z"
    }
   },
   "outputs": [
    {
     "name": "stdout",
     "output_type": "stream",
     "text": [
      "Epoch 1/20\n",
      "1500/1500 [==============================] - 98s 65ms/step - loss: 0.3980 - accuracy: 0.8544 - val_loss: 0.3066 - val_accuracy: 0.8855\n",
      "Epoch 2/20\n",
      "1500/1500 [==============================] - 105s 70ms/step - loss: 0.2477 - accuracy: 0.9088 - val_loss: 0.2545 - val_accuracy: 0.9069\n",
      "Epoch 3/20\n",
      "1500/1500 [==============================] - 118s 78ms/step - loss: 0.1988 - accuracy: 0.9261 - val_loss: 0.2418 - val_accuracy: 0.9110\n",
      "Epoch 4/20\n",
      "1500/1500 [==============================] - 126s 84ms/step - loss: 0.1666 - accuracy: 0.9375 - val_loss: 0.2196 - val_accuracy: 0.9200\n",
      "Epoch 5/20\n",
      "1500/1500 [==============================] - 117s 78ms/step - loss: 0.1362 - accuracy: 0.9489 - val_loss: 0.2287 - val_accuracy: 0.9181\n",
      "Epoch 6/20\n",
      "1500/1500 [==============================] - 134s 89ms/step - loss: 0.1120 - accuracy: 0.9583 - val_loss: 0.2249 - val_accuracy: 0.9237\n",
      "Epoch 7/20\n",
      "1500/1500 [==============================] - 132s 88ms/step - loss: 0.0868 - accuracy: 0.9679 - val_loss: 0.2782 - val_accuracy: 0.9235\n",
      "Epoch 8/20\n",
      "1500/1500 [==============================] - 126s 84ms/step - loss: 0.0742 - accuracy: 0.9727 - val_loss: 0.2766 - val_accuracy: 0.9208\n",
      "Epoch 9/20\n",
      "1500/1500 [==============================] - 118s 79ms/step - loss: 0.0581 - accuracy: 0.9784 - val_loss: 0.3241 - val_accuracy: 0.9167\n",
      "Epoch 10/20\n",
      "1500/1500 [==============================] - 112s 74ms/step - loss: 0.0500 - accuracy: 0.9819 - val_loss: 0.3267 - val_accuracy: 0.9163\n",
      "Epoch 11/20\n",
      "1500/1500 [==============================] - 114s 76ms/step - loss: 0.0407 - accuracy: 0.9855 - val_loss: 0.3411 - val_accuracy: 0.9241\n",
      "Epoch 12/20\n",
      "1500/1500 [==============================] - 118s 79ms/step - loss: 0.0432 - accuracy: 0.9838 - val_loss: 0.3828 - val_accuracy: 0.9168\n",
      "Epoch 13/20\n",
      "1500/1500 [==============================] - 117s 78ms/step - loss: 0.0329 - accuracy: 0.9883 - val_loss: 0.4366 - val_accuracy: 0.9161\n",
      "Epoch 14/20\n",
      "1500/1500 [==============================] - 120s 80ms/step - loss: 0.0359 - accuracy: 0.9878 - val_loss: 0.4139 - val_accuracy: 0.9159\n",
      "Epoch 15/20\n",
      "1500/1500 [==============================] - 118s 79ms/step - loss: 0.0320 - accuracy: 0.9891 - val_loss: 0.5007 - val_accuracy: 0.9172\n",
      "Epoch 16/20\n",
      "1500/1500 [==============================] - 117s 78ms/step - loss: 0.0254 - accuracy: 0.9908 - val_loss: 0.4885 - val_accuracy: 0.9206\n",
      "Epoch 17/20\n",
      "1500/1500 [==============================] - 121s 81ms/step - loss: 0.0298 - accuracy: 0.9900 - val_loss: 0.4589 - val_accuracy: 0.9241\n",
      "Epoch 18/20\n",
      "1500/1500 [==============================] - 104s 69ms/step - loss: 0.0260 - accuracy: 0.9915 - val_loss: 0.4888 - val_accuracy: 0.9225\n",
      "Epoch 19/20\n",
      "1500/1500 [==============================] - 108s 72ms/step - loss: 0.0231 - accuracy: 0.9919 - val_loss: 0.5945 - val_accuracy: 0.9195\n",
      "Epoch 20/20\n",
      "1500/1500 [==============================] - 111s 74ms/step - loss: 0.0259 - accuracy: 0.9911 - val_loss: 0.6027 - val_accuracy: 0.9226\n"
     ]
    }
   ],
   "source": [
    "epochs=20\n",
    "history = model.fit(\n",
    "  x=x_train,\n",
    "  y=y_train,\n",
    "  validation_data=(x_val,y_val),\n",
    "  epochs=epochs,\n",
    "  batch_size=32\n",
    ")"
   ]
  },
  {
   "cell_type": "code",
   "execution_count": 40,
   "id": "5197ed65",
   "metadata": {
    "ExecuteTime": {
     "end_time": "2022-10-28T15:03:35.470832Z",
     "start_time": "2022-10-28T15:03:35.104671Z"
    }
   },
   "outputs": [
    {
     "data": {
      "image/png": "[encoded data removed]",
      "text/plain": [
       "<Figure size 720x576 with 6 Axes>"
      ]
     },
     "metadata": {},
     "output_type": "display_data"
    }
   ],
   "source": [
    "# Test our model with the test data set x_test,y_test\n",
    "fig,axs=plt.subplots(3,2,figsize=(10,8))\n",
    "for image_test,label_test, ax in zip(x_test,y_test,axs.ravel()):\n",
    "    y_pred=np.argmax(model.predict(image_test.reshape(1,28,28,1))) # returns the position for given maximum probability \n",
    "                                                              # reshape TO 4 DIMESNSIONS \n",
    "                                                              # array of 1 row and N columns.\n",
    "                                                              # use model.predict to get predicted labels value for given test image\n",
    "    \n",
    "    ax.imshow(image_test)\n",
    "    ax.set_title(f'actual image:{label_test}, predicted image :{y_pred}')\n",
    "    ax.set_xticks([])\n",
    "    ax.set_yticks([])\n"
   ]
  },
  {
   "cell_type": "markdown",
   "id": "4a10c7cc",
   "metadata": {},
   "source": [
    "# Exercise For Students"
   ]
  },
  {
   "cell_type": "code",
   "execution_count": 15,
   "id": "fc9541e7",
   "metadata": {
    "ExecuteTime": {
     "end_time": "2022-11-01T06:37:02.998644Z",
     "start_time": "2022-11-01T06:37:02.293388Z"
    }
   },
   "outputs": [],
   "source": [
    "import tensorflow as tf \n",
    "from tensorflow.keras import datasets,layers,models\n",
    "from tensorflow.keras.preprocessing.image import ImageDataGenerator\n",
    "from tensorflow.keras.models import Sequential\n",
    "from sklearn.model_selection import train_test_split\n",
    "import matplotlib.pyplot as plt "
   ]
  },
  {
   "cell_type": "markdown",
   "id": "18ed152b",
   "metadata": {},
   "source": [
    "Solar flares are the electromagnetic explosions occuring in magnetically active regions on the solarsurface. In this exercise we are going to make a flare prediction which is consider as a classification problem looking for a binary decision whether the sun is producing the flare from the solar images. We are going to import the dataset for two different classes of images: flare and no flares which is located in ~/solar_flares directory. "
   ]
  },
  {
   "cell_type": "code",
   "execution_count": 25,
   "id": "be2e7825",
   "metadata": {
    "ExecuteTime": {
     "end_time": "2022-11-01T06:47:44.405571Z",
     "start_time": "2022-11-01T06:47:44.295855Z"
    }
   },
   "outputs": [
    {
     "name": "stdout",
     "output_type": "stream",
     "text": [
      "Found 1074 files belonging to 2 classes.\n",
      "Using 860 files for training.\n",
      "Found 1074 files belonging to 2 classes.\n",
      "Using 214 files for validation.\n"
     ]
    }
   ],
   "source": [
    "# given keras utilites classifies the classes based on the number of directories we have inside solar_flares.\n",
    "# Refer https://keras.io/api/data_loading/image/#imagedatasetfromdirectory-function\n",
    "train_ds = tf.keras.utils.image_dataset_from_directory('solar_flares',validation_split=0.2,subset='training',seed=123,image_size=(128,128),batch_size=1)\n",
    "valid_ds=tf.keras.utils.image_dataset_from_directory('solar_flares',validation_split=0.2,subset='validation',seed=123,image_size=(128,128),batch_size=1)"
   ]
  },
  {
   "cell_type": "code",
   "execution_count": 12,
   "id": "802f9bd3",
   "metadata": {
    "ExecuteTime": {
     "end_time": "2022-11-01T06:31:19.141925Z",
     "start_time": "2022-11-01T06:31:19.131928Z"
    }
   },
   "outputs": [
    {
     "data": {
      "text/plain": [
       "2"
      ]
     },
     "execution_count": 12,
     "metadata": {},
     "output_type": "execute_result"
    }
   ],
   "source": [
    "len_of_class=len(train_ds.class_names)\n",
    "len_of_class"
   ]
  },
  {
   "cell_type": "markdown",
   "id": "482a1662",
   "metadata": {
    "ExecuteTime": {
     "end_time": "2022-11-01T06:57:56.373127Z",
     "start_time": "2022-11-01T06:57:56.362125Z"
    }
   },
   "source": [
    "* 2d convolutional layer with:\n",
    "    * one input channel\n",
    "    * 16 output channels\n",
    "    * kernel size 3 (no padding)\n",
    "    * followed by ReLU\n",
    "* Max-pooling layer with kernel size 2 and stride 2\n",
    "* 2d convolutional layer with:\n",
    "    * 32 output channels\n",
    "    * kernel size 3 (no padding)\n",
    "    * followed by ReLU\n",
    "* Max-pooling layer with kernel size 2 and stride 2\n",
    "* 2d convolutional layer with:\n",
    "    * 64 output channels\n",
    "    * kernel size 3 (no padding)\n",
    "    * followed by ReLU\n",
    "* Max-pooling layer with kernel size 2 and stride 2\n",
    "* 2d convolutional layer with:\n",
    "    * 63 output channels\n",
    "    * kernel size 3 (no padding)\n",
    "    * followed by ReLU\n",
    "* Max-pooling layer with kernel size 2 and stride 2\n",
    "* A fully-connected layer with:\n",
    "    * 128 outputs\n",
    "    * followed by ReLU\n",
    "* A fully-connected layer with  2 outputs "
   ]
  },
  {
   "cell_type": "code",
   "execution_count": 28,
   "id": "c9fcf208",
   "metadata": {
    "ExecuteTime": {
     "end_time": "2022-11-01T06:48:50.119762Z",
     "start_time": "2022-11-01T06:48:50.043723Z"
    }
   },
   "outputs": [
    {
     "name": "stdout",
     "output_type": "stream",
     "text": [
      "Model: \"sequential_1\"\n",
      "_________________________________________________________________\n",
      "Layer (type)                 Output Shape              Param #   \n",
      "=================================================================\n",
      "rescaling_1 (Rescaling)      (None, 128, 128, 3)       0         \n",
      "_________________________________________________________________\n",
      "conv2d_4 (Conv2D)            (None, 128, 128, 16)      448       \n",
      "_________________________________________________________________\n",
      "max_pooling2d_4 (MaxPooling2 (None, 64, 64, 16)        0         \n",
      "_________________________________________________________________\n",
      "conv2d_5 (Conv2D)            (None, 64, 64, 32)        4640      \n",
      "_________________________________________________________________\n",
      "max_pooling2d_5 (MaxPooling2 (None, 32, 32, 32)        0         \n",
      "_________________________________________________________________\n",
      "conv2d_6 (Conv2D)            (None, 32, 32, 64)        18496     \n",
      "_________________________________________________________________\n",
      "max_pooling2d_6 (MaxPooling2 (None, 16, 16, 64)        0         \n",
      "_________________________________________________________________\n",
      "conv2d_7 (Conv2D)            (None, 16, 16, 64)        36928     \n",
      "_________________________________________________________________\n",
      "max_pooling2d_7 (MaxPooling2 (None, 8, 8, 64)          0         \n",
      "_________________________________________________________________\n",
      "flatten_1 (Flatten)          (None, 4096)              0         \n",
      "_________________________________________________________________\n",
      "dense_2 (Dense)              (None, 256)               1048832   \n",
      "_________________________________________________________________\n",
      "dense_3 (Dense)              (None, 2)                 514       \n",
      "=================================================================\n",
      "Total params: 1,109,858\n",
      "Trainable params: 1,109,858\n",
      "Non-trainable params: 0\n",
      "_________________________________________________________________\n"
     ]
    }
   ],
   "source": [
    "## TO DO \n",
    "## CREATE A MODEL WITH GIVEN SPECIFICATION\n",
    "## YOUR MODEL HERE\n",
    "model = Sequential([\n",
    "                   layers.Rescaling(1./255, input_shape=(128,128,3)),\n",
    "                   layers.Conv2D(16,3, padding='same',activation='relu'),\n",
    "                   layers.MaxPooling2D(),\n",
    "                   layers.Conv2D(32,3,padding='same',activation='relu'),\n",
    "                   layers.MaxPooling2D(),\n",
    "                   layers.Conv2D(64,3,padding='same',activation='relu'),\n",
    "                   layers.MaxPooling2D(),\n",
    "                   layers.Conv2D(64,3,padding='same',activation='relu'),\n",
    "                   layers.MaxPooling2D(),\n",
    "                   layers.Flatten(),\n",
    "                   layers.Dense(128,activation='relu'),\n",
    "                   layers.Dense(len_of_class)\n",
    "                   \n",
    "                   \n",
    "                   \n",
    "                   ])\n",
    "model.summary()"
   ]
  },
  {
   "cell_type": "code",
   "execution_count": 30,
   "id": "daa3a160",
   "metadata": {
    "ExecuteTime": {
     "end_time": "2022-11-01T06:51:03.268145Z",
     "start_time": "2022-11-01T06:51:03.243409Z"
    }
   },
   "outputs": [],
   "source": [
    "## TO DO \n",
    "## COMPILE YOUR MODEL HERE \n",
    "## use optimizer 'adam' , loss as 'tf.keras.losses.SparseCategoricalCrossentropy(from_logits=True)' and metrics as accuracy\n",
    "model.compile(optimizer='adam',\n",
    "              loss=tf.keras.losses.SparseCategoricalCrossentropy(from_logits=True),\n",
    "              metrics=['accuracy'])"
   ]
  },
  {
   "cell_type": "code",
   "execution_count": 31,
   "id": "32e2a708",
   "metadata": {
    "ExecuteTime": {
     "end_time": "2022-11-01T06:55:51.076791Z",
     "start_time": "2022-11-01T06:51:12.808293Z"
    }
   },
   "outputs": [
    {
     "name": "stdout",
     "output_type": "stream",
     "text": [
      "Epoch 1/20\n",
      "860/860 [==============================] - 13s 12ms/step - loss: 0.7011 - accuracy: 0.5221 - val_loss: 0.7019 - val_accuracy: 0.4486\n",
      "Epoch 2/20\n",
      "860/860 [==============================] - 14s 16ms/step - loss: 0.6922 - accuracy: 0.5372 - val_loss: 0.7000 - val_accuracy: 0.4486\n",
      "Epoch 3/20\n",
      "860/860 [==============================] - 14s 16ms/step - loss: 0.6961 - accuracy: 0.5105 - val_loss: 0.6951 - val_accuracy: 0.4720\n",
      "Epoch 4/20\n",
      "860/860 [==============================] - 14s 16ms/step - loss: 0.6795 - accuracy: 0.5512 - val_loss: 0.6866 - val_accuracy: 0.4813\n",
      "Epoch 5/20\n",
      "860/860 [==============================] - 14s 16ms/step - loss: 0.7001 - accuracy: 0.5349 - val_loss: 0.7024 - val_accuracy: 0.4486\n",
      "Epoch 6/20\n",
      "860/860 [==============================] - 12s 14ms/step - loss: 0.6923 - accuracy: 0.5349 - val_loss: 0.7004 - val_accuracy: 0.4486\n",
      "Epoch 7/20\n",
      "860/860 [==============================] - 15s 17ms/step - loss: 0.6911 - accuracy: 0.5349 - val_loss: 0.7003 - val_accuracy: 0.4486\n",
      "Epoch 8/20\n",
      "860/860 [==============================] - 13s 16ms/step - loss: 0.7034 - accuracy: 0.5395 - val_loss: 0.6953 - val_accuracy: 0.4486\n",
      "Epoch 9/20\n",
      "860/860 [==============================] - 14s 16ms/step - loss: 0.6730 - accuracy: 0.5709 - val_loss: 0.6616 - val_accuracy: 0.5000\n",
      "Epoch 10/20\n",
      "860/860 [==============================] - 14s 16ms/step - loss: 0.6387 - accuracy: 0.6093 - val_loss: 0.6693 - val_accuracy: 0.5047\n",
      "Epoch 11/20\n",
      "860/860 [==============================] - 14s 16ms/step - loss: 0.6067 - accuracy: 0.6407 - val_loss: 0.5814 - val_accuracy: 0.6121\n",
      "Epoch 12/20\n",
      "860/860 [==============================] - 15s 17ms/step - loss: 0.5638 - accuracy: 0.6593 - val_loss: 0.5380 - val_accuracy: 0.6589\n",
      "Epoch 13/20\n",
      "860/860 [==============================] - 14s 16ms/step - loss: 0.5050 - accuracy: 0.7233 - val_loss: 0.4685 - val_accuracy: 0.7103\n",
      "Epoch 14/20\n",
      "860/860 [==============================] - 12s 14ms/step - loss: 0.4404 - accuracy: 0.7593 - val_loss: 0.4402 - val_accuracy: 0.7477\n",
      "Epoch 15/20\n",
      "860/860 [==============================] - 14s 16ms/step - loss: 0.4875 - accuracy: 0.7802 - val_loss: 0.4350 - val_accuracy: 0.7664\n",
      "Epoch 16/20\n",
      "860/860 [==============================] - 14s 16ms/step - loss: 0.3882 - accuracy: 0.8105 - val_loss: 0.4276 - val_accuracy: 0.7804\n",
      "Epoch 17/20\n",
      "860/860 [==============================] - 14s 16ms/step - loss: 0.3206 - accuracy: 0.8430 - val_loss: 0.4084 - val_accuracy: 0.8271\n",
      "Epoch 18/20\n",
      "860/860 [==============================] - 14s 17ms/step - loss: 0.3243 - accuracy: 0.8663 - val_loss: 0.3141 - val_accuracy: 0.8645\n",
      "Epoch 19/20\n",
      "860/860 [==============================] - 14s 17ms/step - loss: 0.1988 - accuracy: 0.9128 - val_loss: 0.3998 - val_accuracy: 0.8598\n",
      "Epoch 20/20\n",
      "860/860 [==============================] - 15s 17ms/step - loss: 0.3124 - accuracy: 0.8733 - val_loss: 0.4387 - val_accuracy: 0.6963\n"
     ]
    }
   ],
   "source": [
    "epochs=20\n",
    "## TO DO \n",
    "## TRAIN YOUR MODEL HERE \n",
    "epochs=20\n",
    "history = model.fit(\n",
    "  train_ds,\n",
    "  validation_data=valid_ds,\n",
    "  epochs=epochs\n",
    ")"
   ]
  },
  {
   "cell_type": "code",
   "execution_count": null,
   "id": "1883a479",
   "metadata": {},
   "outputs": [],
   "source": []
  }
 ],
 "metadata": {
  "kernelspec": {
   "display_name": "Python 3",
   "language": "python",
   "name": "python3"
  },
  "language_info": {
   "codemirror_mode": {
    "name": "ipython",
    "version": 3
   },
   "file_extension": ".py",
   "mimetype": "text/x-python",
   "name": "python",
   "nbconvert_exporter": "python",
   "pygments_lexer": "ipython3",
   "version": "3.8.8"
  },
  "latex_envs": {
   "LaTeX_envs_menu_present": true,
   "autoclose": false,
   "autocomplete": true,
   "bibliofile": "biblio.bib",
   "cite_by": "apalike",
   "current_citInitial": 1,
   "eqLabelWithNumbers": true,
   "eqNumInitial": 1,
   "hotkeys": {
    "equation": "Ctrl-E",
    "itemize": "Ctrl-I"
   },
   "labels_anchors": false,
   "latex_user_defs": false,
   "report_style_numbering": false,
   "user_envs_cfg": false
  },
  "toc": {
   "base_numbering": 1,
   "nav_menu": {},
   "number_sections": true,
   "sideBar": true,
   "skip_h1_title": false,
   "title_cell": "Table of Contents",
   "title_sidebar": "Contents",
   "toc_cell": false,
   "toc_position": {
    "height": "calc(100% - 180px)",
    "left": "10px",
    "top": "150px",
    "width": "345.966px"
   },
   "toc_section_display": true,
   "toc_window_display": true
  }
 },
 "nbformat": 4,
 "nbformat_minor": 5
}
