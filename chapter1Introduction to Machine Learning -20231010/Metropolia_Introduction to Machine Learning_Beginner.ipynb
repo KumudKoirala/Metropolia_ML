{
 "cells": [
  {
   "cell_type": "markdown",
   "id": "8deda762",
   "metadata": {},
   "source": [
    "# Introduction "
   ]
  },
  {
   "cell_type": "markdown",
   "id": "825725ff",
   "metadata": {},
   "source": [
    "<div style=\"text-align: justify\"> Machine Learning is the process of extracting knowledge from the data .Machine Learns to perform a task for which there are not explicitly programmed. A machine observes a pattern and attempts to imitate it. Tom Mitchell provides a modern definition to Machine Learning . He states a machine learning as a <b> \"computer program which learns from experience E with respect to some class of tasks T and performace measure P, if its performance at tasks in T , as measured by P improves with experience E\"</b>. So there are three parameters in the definition that needs our attention inorder to create a Machine Learning application.</div> \n",
    "\n",
    "- <b>Experience (E)</b>\n",
    "- <b>Tasks (T)</b>\n",
    "- <b>Performance (P)</b>\n",
    "\n",
    "<div style=\"text-align: justify\">Now let us look at an example to clarify the definition stated by Tom Mitchell. Let us consider a data set in which we categorized different species of cats based on their features. So, a dataset would be an <b>experience</b> fed to the machine to learn about features of different species of cats. Where as our <b>task</b> would be to differentiate different species of the cat according to the data fed to the machine . And the performance would be the metrics that is actually able to determine how accurately a machine can exactly indentify the species of the cat.</div>"
   ]
  },
  {
   "cell_type": "markdown",
   "id": "4afcb560",
   "metadata": {},
   "source": [
    "## Three Requirements For Machine Learning \n",
    "<div style=\"text-align: justify\">Now we know that we need three parameter to make a machine learning application (Experience, Tasks and Performance). However those three parameters are generalized and more specific ones are listed below.</div>\n",
    "\n",
    " - Dataset/Observations\n",
    " - Model/Hypothesis Space\n",
    " - Loss Function / Performance Measure"
   ]
  },
  {
   "cell_type": "markdown",
   "id": "680f2a90",
   "metadata": {},
   "source": [
    "### Dataset\n",
    "![dataset_1.png](images/dataset_1.png)\n",
    "<div style=\"text-align: justify\">A data are the observations or measurement collected from an experiment which could be represented as text,numbers or even multimedia(Audio/Video). A dataset is a structured collection of a data. In the figure 1.1, an iris flower data set could be observed for two different iris species Virginica and Setosa. A dataset for machine learning has some $N$ number of datapoints, $M$ number of features and may or may not have labels. In figure 1.1 we can see that , $N = 6$ ,$M= 4$. Datapoints are also called samples. <b>What categorizes/separates an iris flower species(virginica and setosa) in our dataset above?</b> <b>It is truely the features of given dataset that seperates the iris flower species from one another</b>.Labels have discrete values in our dataset. Therefore these kind of dataset falls in  <b>classification problem</b> of machine learning.</div> \n",
    "In Machine Learning, we have to encounter with a dataset which falls into <b>regression problem</b>.  A regression problem is when the output variable (labels) is real or continuous values such as salary or weight. Let us look at a dataset which could be categorized in regression problem.\n",
    "In figure below, we can see that the two features Age and Weight and Systolic BP are the labels which has continuous values.Labels are always dependent variable which depends on the other independent variables. In the given dataset(Figure 1.2), Systolic BP is dependent variables which depends upon two independent varibles(Features) Age and weight.\n"
   ]
  },
  {
   "cell_type": "markdown",
   "id": "9f6077ed",
   "metadata": {},
   "source": [
    "![dataset_3.png](images/dataset_3.png)"
   ]
  },
  {
   "cell_type": "markdown",
   "id": "670d55f4",
   "metadata": {},
   "source": [
    "### Hypothesis Space\n",
    " \n",
    " <div style=\"text-align: justify\"> A hypothesis is a statement/function about the realtionship between two or more variables. It is a testable prediction which begins with a question and then explored using background research.Hypothesis Space is the set of all possible legal hypothesis one can create between the variables .A machine learning algorithm would determine the best hypothesis(a single function) that best describes the relationship between input and ouput variables.</div>\n",
    "\n",
    "![dataset_2-2.png](images/dataset_2.png)\n",
    "\n",
    "<div style=\"text-align: justify\">Let us consider a black box which has been feded with input $x$. We donot know how the black box maps input $x$ to get output $y$.Assume that when $x=3$ , the output is  $x=3$. Let us assume $h(x)$ be the function that describes the blackbox and governed the relationship between variables $x$ and $y$.What will be the function/functions that could best describe the relationship between $x$ and $y$? One possible function could be $h(x)=x^2$. The other possible function could be $h(x)=2x+3$. Now the question is , How many function could be created so as to create this input-ouput relationship. It is <b>INFINITE</b>. The collection of these infinite number of functions(also called predictor maps) is called hypothesis space. A machine learning models learns to pick up one of the best predictor maps that fits correctly from the hypothesis space and that one best function would rule out all the other functions which is now called hypothesis.</div>"
   ]
  },
  {
   "cell_type": "markdown",
   "id": "400fdfe6",
   "metadata": {},
   "source": [
    "### Loss Function\n",
    "After selecting the one of the predictor map from the hypothesis space, we have to measure the performace of the predictor map in question. We take the same example in section 1.1.2, where we had two predictor maps $h(x)=x^2$ and $h(x)=2x+3$ for given input $x=3$ and $y=9$ .let us take another input and output set $x=4$ and $y=16$. Which of those two  predictor maps fit correctly for these new input-output set? It is $h(x)=x^2$ right. But how do we conclude that? We calculated the prediction error. There are many loss function to calculate the prediction error but we are only going to talk two of them . \n",
    "- Absolute error loss:\n",
    "In absolute error loss, we take the difference between the predicted ouput value and observed output value. For predictor map,$h(x)=x^2$  and $x=4$ and $y=16$ , the observed output value and predicted output value is 16. so the prediction error is $h(x)-y =0$. For predictor map, $h(x)=2x+3$ and and $x=4$ and $y=16$ ,the observed output value is 16 whereas the predicted value is 11. So the prediction loss is  $h(x)-y =11$. So we choose the predictor maps which results in low error. In this case it would be $h(x)=x^2$.<b> However in practical, we might never find a perfect predictor map which results in 0 error. Nevertheless we choose the predictor map in given hypothesis space which results in low error.</b> \n",
    "- Squared loss\n",
    "In square loss , we square the difference between the predicted output value and observed ouput value.Mathematically square loss is$ (h(x)-y)^2$. Square of Absolute error gives us the squared loss.  "
   ]
  },
  {
   "cell_type": "markdown",
   "id": "fe81ae2a",
   "metadata": {},
   "source": [
    "# Common Python Libraries "
   ]
  },
  {
   "cell_type": "markdown",
   "id": "5ab1b841",
   "metadata": {},
   "source": [
    "Python has become popular language  for data science/Machine Learning application.It has libraries for data loading , visualization, statistics , natural language processing, image processing and many more. Python has the ability to directly interact with the code using a terminal or other IDE like jupyter notebook. Machine Learning and data analysis are part of a process where the analysis are driven by the data. In this section, we will be looking at some of the common libraries that are available for python and could be use throughout in our Machine Learning course. Let's get familiar with them."
   ]
  },
  {
   "cell_type": "markdown",
   "id": "141b04c6",
   "metadata": {},
   "source": [
    "## NumPY\n",
    "Numpy is one of the libraries available in python for scientific computing . We can easy manipulate the multidimensional arrays and use linear algebra and fourier transform on those arrays. Scikit-learn works with the numpy arrays, i.e it process the input whose data structure is in numpy array. Therefore any data feded to scikit learn needs first to be converted into numpy arrays. let us look at an example below.<b> Please use <u>pip install numpy</u> inside jupyter notebook to download the numpy package inside the jupyter notebook.</b>"
   ]
  },
  {
   "cell_type": "code",
   "execution_count": 1,
   "id": "450d1a31",
   "metadata": {
    "ExecuteTime": {
     "end_time": "2021-12-18T08:23:13.700172Z",
     "start_time": "2021-12-18T08:23:13.398089Z"
    }
   },
   "outputs": [
    {
     "name": "stdout",
     "output_type": "stream",
     "text": [
      "[[1 2 3 4]\n",
      " [5 6 7 8]]\n"
     ]
    }
   ],
   "source": [
    "import numpy as np # import numpy package from library\n",
    "x=np.array([[1,2,3,4],[5,6,7,8]])\n",
    "print(x)"
   ]
  },
  {
   "cell_type": "markdown",
   "id": "d7a51990",
   "metadata": {},
   "source": [
    "In above code we imported numpy package and gave a package an alias name as np. We can use any alias name we want, but np is universally accepted alias name for numpy .We have two vectors [1,2,3,4] and [5,6,7,8] which has been transformed to numpy array of dimension 2x4 (two rows and 4 columns)."
   ]
  },
  {
   "cell_type": "code",
   "execution_count": 10,
   "id": "3cfbde0c",
   "metadata": {
    "ExecuteTime": {
     "end_time": "2021-12-13T10:38:03.451921Z",
     "start_time": "2021-12-13T10:38:03.439921Z"
    }
   },
   "outputs": [
    {
     "data": {
      "text/plain": [
       "numpy.ndarray"
      ]
     },
     "execution_count": 10,
     "metadata": {},
     "output_type": "execute_result"
    }
   ],
   "source": [
    "# TO DO BY STUDENT: \n",
    "# create a random numpy array of shape (10,4) (10 rows and 4 columns )\n",
    "# print the result\n",
    "#Hint: use np.random.rand(number_of_rows,number_of_columns)\n",
    "\n",
    "\n",
    "#STEPS:\n",
    "# import numpy package \n",
    "# define variable number_of_rows and number_of_columns\n",
    "#pass the varibale to numpy random function and assign the output to rand_result\n",
    "#YOUR CODE STARTS DOWN HERE\n"
   ]
  },
  {
   "cell_type": "code",
   "execution_count": 11,
   "id": "1d21d141",
   "metadata": {
    "ExecuteTime": {
     "end_time": "2021-12-13T10:38:32.051821Z",
     "start_time": "2021-12-13T10:38:32.040823Z"
    }
   },
   "outputs": [
    {
     "name": "stdout",
     "output_type": "stream",
     "text": [
      "You passed\n"
     ]
    }
   ],
   "source": [
    "## This cell is for checking \n",
    "assert np.shape(rand_result)==(10,4),\"Shape is not (10,4), please check the shape \"\n",
    "assert type(rand_result)==np.ndarray or numpy.ndarray,\"Please check the numpy random function\"\n",
    "print(\"You passed\")"
   ]
  },
  {
   "cell_type": "markdown",
   "id": "c387416d",
   "metadata": {},
   "source": [
    "We will be looking out various methods that could be used in the NumPY in the upcoming chapters when we start to write our machine learning codes. "
   ]
  },
  {
   "cell_type": "markdown",
   "id": "4c2afad7",
   "metadata": {},
   "source": [
    "##  Matlplotlib\n",
    "Matplotlib is the plotting libray that is available in python. It can be use to plot different kind of visualization such as linecharts,histograms,scatterplot and many more. We will be using matplotlib throughout in our course for doing visualization. Visualization helps us to give insights of the data and its analysis. Let us look at an example below.<b> Please use <u>pip install matplotlib</u> inside jupyter notebook to download the numpy package inside the jupyter notebook.</b>  "
   ]
  },
  {
   "cell_type": "code",
   "execution_count": 20,
   "id": "d5b6ad4b",
   "metadata": {
    "ExecuteTime": {
     "end_time": "2021-12-13T11:10:54.886396Z",
     "start_time": "2021-12-13T11:10:54.391636Z"
    }
   },
   "outputs": [
    {
     "data": {
      "text/plain": [
       "[<matplotlib.lines.Line2D at 0x1eb6e4b8c40>]"
      ]
     },
     "execution_count": 20,
     "metadata": {},
     "output_type": "execute_result"
    },
    {
     "data": {
      "image/png": "[encoded data removed]",
      "text/plain": [
       "<Figure size 432x288 with 1 Axes>"
      ]
     },
     "metadata": {
      "needs_background": "light"
     },
     "output_type": "display_data"
    }
   ],
   "source": [
    "%matplotlib inline\n",
    "import matplotlib.pyplot as plt  # import matplotlib library\n",
    "x=np.linspace(-10,10,200) # create 200 equally space datapoints ranging from -10 to 10 \n",
    "y=np.sin(x)\n",
    "plt.plot(x,y,marker='x')"
   ]
  },
  {
   "cell_type": "markdown",
   "id": "e5b3b84b",
   "metadata": {},
   "source": [
    "In the code snippet above , we imported the matplotlib library, "
   ]
  },
  {
   "cell_type": "code",
   "execution_count": 26,
   "id": "8a8420e3",
   "metadata": {
    "ExecuteTime": {
     "end_time": "2021-12-13T11:12:28.497095Z",
     "start_time": "2021-12-13T11:12:28.481095Z"
    }
   },
   "outputs": [
    {
     "data": {
      "text/plain": [
       "0.6743949274217548"
      ]
     },
     "execution_count": 26,
     "metadata": {},
     "output_type": "execute_result"
    }
   ],
   "source": [
    "# TO DO By student: \n",
    "# PLOT an exponential function which takes equally spaced 100 datapoint starting from range -1 to 2\n",
    "# HINT: numpy has function np.exp(x)\n",
    "\n",
    "#STEPS:\n",
    "# Import matplotlib library \n",
    "# Create the datapoints to plot , assign  a variable  name  \"data_points\" (without quotation) to the datapoint vector \n",
    "# pass the vector to the exponential function and assign a name  \"amplitude\" (without quotation) to the output vector. \n",
    "# plot amplitude and datapoint "
   ]
  },
  {
   "cell_type": "code",
   "execution_count": 27,
   "id": "640d911f",
   "metadata": {
    "ExecuteTime": {
     "end_time": "2021-12-13T11:12:38.584096Z",
     "start_time": "2021-12-13T11:12:38.566088Z"
    }
   },
   "outputs": [
    {
     "name": "stdout",
     "output_type": "stream",
     "text": [
      "You passed\n"
     ]
    }
   ],
   "source": [
    "## This cell is for checking \n",
    "assert data_points[20]==-0.3939393939393939,\"Please check the parameters to create datapoint\"\n",
    "assert amplitude[20]==0.6743949274217548,\"Please check your exponential function\"\n",
    "print(\"You passed\")"
   ]
  },
  {
   "cell_type": "markdown",
   "id": "f3d03b21",
   "metadata": {},
   "source": [
    "##  Pandas\n",
    "Pandas libraries are used for data wrangling/manipulation. Here we have huge difference between manipulating array/ data using Numpy and Pandas . Generally we manipulate data in numpy so that it gets ready for using linear algebra or any scientific computation. <b>We cannot easily do high level mathematical operation using Pandas such as fourier transform</b>. Pandas in machine learning is generally use for data tiding/cleaning process(Data preprocessing). Data preprocessing is however is not scope of this beginner course, so we would be using pandas less often in this beginner course. <b> Please use <u>pip install matplotlib</u> inside jupyter notebook to download the matplotlib package inside the jupyter notebook.</b>"
   ]
  },
  {
   "cell_type": "code",
   "execution_count": 31,
   "id": "6a89c4d4",
   "metadata": {
    "ExecuteTime": {
     "end_time": "2021-12-13T11:35:11.556918Z",
     "start_time": "2021-12-13T11:35:11.538880Z"
    }
   },
   "outputs": [
    {
     "name": "stdout",
     "output_type": "stream",
     "text": [
      "    Name Sex  GPA\n",
      "0  Mikko   M  3.5\n",
      "1  Kimmo   M  4.5\n",
      "2  Oskar   M  4.8\n",
      "3  Oshin   F    5\n",
      "4  Antii   M  4.3\n"
     ]
    }
   ],
   "source": [
    "import pandas as pd\n",
    "\n",
    "# Create a dictionary object called data \n",
    "\n",
    "data={'Name':[\"Mikko\",\"Kimmo\",\"Oskar\",\"Oshin\",\"Antii\"],\n",
    "      'Sex' :[\"M\",\"M\",\"M\",\"F\",\"M\"],    \n",
    "      'GPA' :[\"3.5\",\"4.5\",\"4.8\",\"5\",\"4.3\"]\n",
    "     }\n",
    "\n",
    "\n",
    "# Convert data to dataframe \n",
    "df=pd.DataFrame(data)\n",
    "print(df)\n"
   ]
  },
  {
   "cell_type": "markdown",
   "id": "e5c7dcaf",
   "metadata": {},
   "source": [
    "We have a nice tabular structure of our data set consisting of 3 different columns and 5 datapoints."
   ]
  },
  {
   "cell_type": "code",
   "execution_count": null,
   "id": "c5c64a43",
   "metadata": {},
   "outputs": [],
   "source": [
    "#TO DO by student \n",
    "#read a csv file dataset iris.csv located inside file directory (/file/iris.csv)\n",
    "#check all the information related to the dataset (use dataframe.info())\n",
    "#check the description of the dataset (use dataframe.describe())\n",
    "\n",
    "#STEP:\n",
    "# import pandas library\n",
    "# use method to read the csv file \n",
    "\n"
   ]
  },
  {
   "cell_type": "markdown",
   "id": "703b28f9",
   "metadata": {},
   "source": [
    "There are other libraries that we would be using in this course such as Scikit learn and sciPY. We will be looking at them in the upcoming chapters. "
   ]
  }
 ],
 "metadata": {
  "kernelspec": {
   "display_name": "Python 3",
   "language": "python",
   "name": "python3"
  },
  "language_info": {
   "codemirror_mode": {
    "name": "ipython",
    "version": 3
   },
   "file_extension": ".py",
   "mimetype": "text/x-python",
   "name": "python",
   "nbconvert_exporter": "python",
   "pygments_lexer": "ipython3",
   "version": "3.8.8"
  },
  "latex_envs": {
   "LaTeX_envs_menu_present": true,
   "autoclose": false,
   "autocomplete": true,
   "bibliofile": "biblio.bib",
   "cite_by": "apalike",
   "current_citInitial": 1,
   "eqLabelWithNumbers": true,
   "eqNumInitial": 1,
   "hotkeys": {
    "equation": "Ctrl-E",
    "itemize": "Ctrl-I"
   },
   "labels_anchors": false,
   "latex_user_defs": false,
   "report_style_numbering": false,
   "user_envs_cfg": false
  },
  "toc": {
   "base_numbering": 1,
   "nav_menu": {},
   "number_sections": true,
   "sideBar": true,
   "skip_h1_title": false,
   "title_cell": "Table of Contents",
   "title_sidebar": "Contents",
   "toc_cell": false,
   "toc_position": {
    "height": "calc(100% - 180px)",
    "left": "10px",
    "top": "150px",
    "width": "426.667px"
   },
   "toc_section_display": true,
   "toc_window_display": true
  }
 },
 "nbformat": 4,
 "nbformat_minor": 5
}
