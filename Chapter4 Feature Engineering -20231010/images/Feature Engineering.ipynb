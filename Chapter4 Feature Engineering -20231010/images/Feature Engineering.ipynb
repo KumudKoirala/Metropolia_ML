{
 "cells": [
  {
   "cell_type": "markdown",
   "id": "168ad27a",
   "metadata": {},
   "source": [
    "# Feature Engineering "
   ]
  },
  {
   "cell_type": "markdown",
   "id": "d9291a75",
   "metadata": {},
   "source": [
    "We have come across the different kind of dataset where we usually deal with the numerical values . A continuous feature columns has usually floating point numbers that makes up datapoints. However we might sometime encounter the categorical or discrete features in our dataset which is not represent by a number but by a text. In classification problem for ML , we usually have the categorical values in our labels/target/ouput where as in regression problem , we always have continuous values as our label.\n",
    "No matter which types of features our dataset consists of , how we represent them has a huge effect in the performance of machine learning models.The process of how we represent our data for a particular application is known as feature engineering. Feature engineering has a great role when a ML/Data scientist works with a real world dataset."
   ]
  },
  {
   "cell_type": "markdown",
   "id": "3f2e349d",
   "metadata": {
    "ExecuteTime": {
     "end_time": "2022-01-03T16:41:47.981913Z",
     "start_time": "2022-01-03T16:41:47.973907Z"
    }
   },
   "source": [
    "## Categorical Variables"
   ]
  },
  {
   "cell_type": "markdown",
   "id": "d1b56e78",
   "metadata": {},
   "source": [
    "Machine Learning algorithm works only with the numerical variables and therefore it is important to convert the raw data such text, audio,videos,images into some numerical representation . There are three types of categorical variables: binary, nominal and ordinal. Binary variables represent yes/no or true/false or 1/0 outcomes. For example, posibility of observing head/tail in a coin flip or winning/losing a football game.\n",
    "\n",
    "Nominal Variable represents a variable groups with no rank or order between them. For example:Gender(Male/Female),Religion(Hindu,christian,Jew), Eye colour(Blue,green,brown).\n",
    "\n",
    "Ordinal Variables are the groups that are ranked in a specific order . For example letter grades like A,B,C(A is better and C is worst), Customer rating (1-10),Education level like Elementary,high school ,college (college being the top most level and elementary being the lower level.)"
   ]
  },
  {
   "cell_type": "markdown",
   "id": "a91e33ee",
   "metadata": {},
   "source": [
    "###  Encoding Ordinal Values"
   ]
  },
  {
   "cell_type": "markdown",
   "id": "008bc38a",
   "metadata": {
    "ExecuteTime": {
     "end_time": "2022-01-06T13:28:57.227718Z",
     "start_time": "2022-01-06T13:28:57.219693Z"
    }
   },
   "source": [
    "####  Encoding Ordinal Values Using Map and Apply  function"
   ]
  },
  {
   "cell_type": "code",
   "execution_count": 2,
   "id": "935fa350",
   "metadata": {
    "ExecuteTime": {
     "end_time": "2022-01-08T16:31:28.450376Z",
     "start_time": "2022-01-08T16:31:28.429381Z"
    }
   },
   "outputs": [
    {
     "name": "stdout",
     "output_type": "stream",
     "text": [
      "   Age  Income\n",
      "0   33  medium\n",
      "1   22     low\n",
      "2   44    high\n",
      "3   55    high\n",
      "4   20     low\n",
      "5   21     low\n",
      "6   37  medium\n",
      "7   65    high\n"
     ]
    }
   ],
   "source": [
    "import pandas as pd \n",
    "\n",
    "df_ordinal=pd.DataFrame({    #  Create a panda dataframe from a toy dataset\n",
    "    \"Age\":[33,22,44,55,20,21,37,65],\n",
    "    \"Income\":[\"medium\",\"low\",\"high\",\"high\",\"low\",\"low\",\"medium\",\"high\"]\n",
    "})\n",
    "\n",
    "print(df_ordinal)"
   ]
  },
  {
   "cell_type": "markdown",
   "id": "9f0fc7ec",
   "metadata": {},
   "source": [
    "In the above example we can see the Income of the people based on their ages. Income has three category: Low, Medium and High .\n",
    "We are going to use map function that is available in pandas dataframe object as shown below."
   ]
  },
  {
   "cell_type": "code",
   "execution_count": 3,
   "id": "7e47f92f",
   "metadata": {
    "ExecuteTime": {
     "end_time": "2022-01-08T16:31:30.538609Z",
     "start_time": "2022-01-08T16:31:30.521614Z"
    }
   },
   "outputs": [
    {
     "name": "stdout",
     "output_type": "stream",
     "text": [
      "0    2\n",
      "1    1\n",
      "2    3\n",
      "3    3\n",
      "4    1\n",
      "5    1\n",
      "6    2\n",
      "7    3\n",
      "Name: Income, dtype: int64\n"
     ]
    }
   ],
   "source": [
    "encoded_ordinal_map= df_ordinal.Income.map({\"low\":1,\"medium\":2,\"high\":3})\n",
    "print(encoded_ordinal_map )"
   ]
  },
  {
   "cell_type": "markdown",
   "id": "7d65a082",
   "metadata": {},
   "source": [
    "In encoded_ordinal_map , we can see that numbers (1,2,3) has been assigned to the three different category low, medium and high  "
   ]
  },
  {
   "cell_type": "markdown",
   "id": "2004c901",
   "metadata": {},
   "source": [
    "Now we are going to use apply function so as to change the ordinal values to numerical values. We are using same dataset as above "
   ]
  },
  {
   "cell_type": "code",
   "execution_count": 4,
   "id": "d0acaf23",
   "metadata": {
    "ExecuteTime": {
     "end_time": "2022-01-08T16:31:56.829988Z",
     "start_time": "2022-01-08T16:31:56.815022Z"
    }
   },
   "outputs": [
    {
     "name": "stdout",
     "output_type": "stream",
     "text": [
      "0    2\n",
      "1    1\n",
      "2    3\n",
      "3    3\n",
      "4    1\n",
      "5    1\n",
      "6    2\n",
      "7    3\n",
      "Name: Income, dtype: int64\n"
     ]
    }
   ],
   "source": [
    "d={\"low\":1,\"medium\":2,\"high\":3}\n",
    "encoded_ordinal_apply = df_ordinal.Income.apply(lambda x:d[x])\n",
    "print(encoded_ordinal_apply)"
   ]
  },
  {
   "cell_type": "markdown",
   "id": "399d0fa7",
   "metadata": {
    "ExecuteTime": {
     "end_time": "2022-01-06T13:46:39.031213Z",
     "start_time": "2022-01-06T13:46:39.023213Z"
    }
   },
   "source": [
    "#### Encoding Ordinal Values Using  Scikit -learn  Libraries \n",
    "The most efficient way to encode the categorical varibles is to use Scikit learn libraries. They are highly optimized and easy to implement. We can use OrdinalEncoder from scikit learn. "
   ]
  },
  {
   "cell_type": "code",
   "execution_count": 5,
   "id": "3fe7f7b2",
   "metadata": {
    "ExecuteTime": {
     "end_time": "2022-01-08T16:32:08.474428Z",
     "start_time": "2022-01-08T16:32:07.432778Z"
    }
   },
   "outputs": [
    {
     "name": "stdout",
     "output_type": "stream",
     "text": [
      "[[2.]\n",
      " [1.]\n",
      " [0.]\n",
      " [0.]\n",
      " [1.]\n",
      " [1.]\n",
      " [2.]\n",
      " [0.]]\n"
     ]
    }
   ],
   "source": [
    "from sklearn.preprocessing import OrdinalEncoder  # import the library\n",
    "\n",
    "sklearn_ordinal= OrdinalEncoder() # Instantiate the class and create sklearn_ordinal object\n",
    "encoded_ordinal_sklearn = sklearn_ordinal.fit_transform(df_ordinal[[\"Income\"]])\n",
    "print(encoded_ordinal_sklearn)"
   ]
  },
  {
   "cell_type": "markdown",
   "id": "9272fb57",
   "metadata": {
    "ExecuteTime": {
     "end_time": "2022-01-06T13:59:34.789086Z",
     "start_time": "2022-01-06T13:59:34.783118Z"
    }
   },
   "source": [
    "In the above encoded data , it can be seen that sklearn has encoded three lables (low =1, medium=2 and high=0 ). Dont forget to use <b>fit_transform</b> method for conversion.\n",
    "Similarly we can use Ordinal encoder to perform similar operation with the ordinal values as shown below."
   ]
  },
  {
   "cell_type": "markdown",
   "id": "f38c79ca",
   "metadata": {},
   "source": [
    "### Encoding Nominal Values \n",
    "To represent categorical Nominal values we are going to use two most popular libraries that are availabe in scikit learn: Label Encoder and One-hot Encoding."
   ]
  },
  {
   "cell_type": "markdown",
   "id": "16b252c3",
   "metadata": {},
   "source": [
    "#### Label Encoder "
   ]
  },
  {
   "cell_type": "code",
   "execution_count": 8,
   "id": "9dbaf542",
   "metadata": {
    "ExecuteTime": {
     "end_time": "2022-01-08T16:32:44.153779Z",
     "start_time": "2022-01-08T16:32:44.134785Z"
    },
    "scrolled": true
   },
   "outputs": [
    {
     "name": "stdout",
     "output_type": "stream",
     "text": [
      "   Age Sex\n",
      "0   33   m\n",
      "1   22   f\n",
      "2   44   m\n",
      "3   55   f\n",
      "4   20   m\n",
      "5   21   f\n",
      "6   37   m\n",
      "7   65   m\n"
     ]
    }
   ],
   "source": [
    "# Let us create a toy dataframe using pandas \n",
    "df_nominal=pd.DataFrame({\n",
    "    \"Age\":[33,22,44,55,20,21,37,65],\n",
    "    \"Sex\":[\"m\",\"f\",\"m\",\"f\",\"m\",\"f\",\"m\",\"m\"]\n",
    "})\n",
    "print(df_nominal)"
   ]
  },
  {
   "cell_type": "code",
   "execution_count": 10,
   "id": "c3b0b840",
   "metadata": {
    "ExecuteTime": {
     "end_time": "2022-01-08T16:33:38.882651Z",
     "start_time": "2022-01-08T16:33:38.874650Z"
    }
   },
   "outputs": [
    {
     "name": "stdout",
     "output_type": "stream",
     "text": [
      "[1 0 1 0 1 0 1 1]\n"
     ]
    }
   ],
   "source": [
    "from sklearn.preprocessing import LabelEncoder\n",
    "\n",
    "sklearn_label= LabelEncoder()\n",
    "encoded_label_sklearn = sklearn_label.fit_transform(df_nominal.Sex)\n",
    "print(encoded_label_sklearn)"
   ]
  },
  {
   "cell_type": "markdown",
   "id": "16f6c607",
   "metadata": {
    "ExecuteTime": {
     "end_time": "2022-01-08T16:34:01.235797Z",
     "start_time": "2022-01-08T16:34:01.232797Z"
    }
   },
   "source": [
    "#### One hot Encoder \n",
    "The one-hot-encoding(OHE) works by replacing a categorical variables with one or more new features that can have the values 0 and 1."
   ]
  },
  {
   "cell_type": "code",
   "execution_count": 29,
   "id": "d9428143",
   "metadata": {
    "ExecuteTime": {
     "end_time": "2022-01-08T17:09:25.156608Z",
     "start_time": "2022-01-08T17:09:25.150606Z"
    }
   },
   "outputs": [
    {
     "name": "stdout",
     "output_type": "stream",
     "text": [
      "[[0. 1.]\n",
      " [1. 0.]\n",
      " [0. 1.]\n",
      " [1. 0.]\n",
      " [0. 1.]\n",
      " [1. 0.]\n",
      " [0. 1.]\n",
      " [0. 1.]]\n"
     ]
    }
   ],
   "source": [
    "from sklearn.preprocessing import OneHotEncoder\n",
    "\n",
    "sklearn_OHE= OneHotEncoder()\n",
    "encoded_OHE_sklearn = sklearn_OHE.fit_transform(df_nominal[[\"Sex\"]]).toarray()\n",
    "print(encoded_OHE_sklearn)\n"
   ]
  },
  {
   "cell_type": "markdown",
   "id": "fb796dba",
   "metadata": {},
   "source": [
    "In the above encoded values for male \"m \" and female \"f\" , we have size of matrix 8x2.If we scan those matrix horizonatal there are are two distinct vectors in the matrix: [0. 1.] and [1   0] Here these two vectors [0. 1.] and [1   0] represents male and female respectively . So in the dataset df_nominal in the first row  we can see that there is presence of \"m\" and absence of \"f\" , so its corresponding vector [0  1] indicates the presence of \"m\".\n",
    "Similary in the second row of dataset df_nominal, there is presence of \"f\" and no \"m\". So [1 0 ] indicates the presence of \"f\".\n",
    "A Sex feature in the datset set df_nominal has been increase by two times as we can see we have two columns in the encoded_OHE_Sklearn. After the encoding , we always drop out the encoded columns/feature from our dataset and keep the encoded one. so the new dataset would look like below\n"
   ]
  },
  {
   "cell_type": "code",
   "execution_count": 33,
   "id": "f310541e",
   "metadata": {
    "ExecuteTime": {
     "end_time": "2022-01-08T17:12:27.032432Z",
     "start_time": "2022-01-08T17:12:27.002441Z"
    }
   },
   "outputs": [
    {
     "data": {
      "text/html": [
       "<div>\n",
       "<style scoped>\n",
       "    .dataframe tbody tr th:only-of-type {\n",
       "        vertical-align: middle;\n",
       "    }\n",
       "\n",
       "    .dataframe tbody tr th {\n",
       "        vertical-align: top;\n",
       "    }\n",
       "\n",
       "    .dataframe thead th {\n",
       "        text-align: right;\n",
       "    }\n",
       "</style>\n",
       "<table border=\"1\" class=\"dataframe\">\n",
       "  <thead>\n",
       "    <tr style=\"text-align: right;\">\n",
       "      <th></th>\n",
       "      <th>Age</th>\n",
       "      <th>f</th>\n",
       "      <th>m</th>\n",
       "    </tr>\n",
       "  </thead>\n",
       "  <tbody>\n",
       "    <tr>\n",
       "      <th>0</th>\n",
       "      <td>33</td>\n",
       "      <td>0.0</td>\n",
       "      <td>1.0</td>\n",
       "    </tr>\n",
       "    <tr>\n",
       "      <th>1</th>\n",
       "      <td>22</td>\n",
       "      <td>1.0</td>\n",
       "      <td>0.0</td>\n",
       "    </tr>\n",
       "    <tr>\n",
       "      <th>2</th>\n",
       "      <td>44</td>\n",
       "      <td>0.0</td>\n",
       "      <td>1.0</td>\n",
       "    </tr>\n",
       "    <tr>\n",
       "      <th>3</th>\n",
       "      <td>55</td>\n",
       "      <td>1.0</td>\n",
       "      <td>0.0</td>\n",
       "    </tr>\n",
       "    <tr>\n",
       "      <th>4</th>\n",
       "      <td>20</td>\n",
       "      <td>0.0</td>\n",
       "      <td>1.0</td>\n",
       "    </tr>\n",
       "    <tr>\n",
       "      <th>5</th>\n",
       "      <td>21</td>\n",
       "      <td>1.0</td>\n",
       "      <td>0.0</td>\n",
       "    </tr>\n",
       "    <tr>\n",
       "      <th>6</th>\n",
       "      <td>37</td>\n",
       "      <td>0.0</td>\n",
       "      <td>1.0</td>\n",
       "    </tr>\n",
       "    <tr>\n",
       "      <th>7</th>\n",
       "      <td>65</td>\n",
       "      <td>0.0</td>\n",
       "      <td>1.0</td>\n",
       "    </tr>\n",
       "  </tbody>\n",
       "</table>\n",
       "</div>"
      ],
      "text/plain": [
       "   Age    f    m\n",
       "0   33  0.0  1.0\n",
       "1   22  1.0  0.0\n",
       "2   44  0.0  1.0\n",
       "3   55  1.0  0.0\n",
       "4   20  0.0  1.0\n",
       "5   21  1.0  0.0\n",
       "6   37  0.0  1.0\n",
       "7   65  0.0  1.0"
      ]
     },
     "execution_count": 33,
     "metadata": {},
     "output_type": "execute_result"
    }
   ],
   "source": [
    "pd.concat([df_nominal.Age,pd.DataFrame(encoded_OHE_sklearn,columns=[\"f\",\"m\"])],axis=1)"
   ]
  },
  {
   "cell_type": "markdown",
   "id": "253ba32e",
   "metadata": {},
   "source": [
    "# Exercise For Students"
   ]
  },
  {
   "cell_type": "markdown",
   "id": "1e5798f3",
   "metadata": {},
   "source": [
    "For this exercise we are going to use a dataset from kaggle.com known as \"cat in dat-categorical Feature Encoding Challenge\". You are going to download those file and upload it to jupyter notebook and read those files using pandas.read_csv. Please download dataset from here : https://www.kaggle.com/c/cat-in-the-dat-ii/data\n",
    "\n"
   ]
  },
  {
   "cell_type": "code",
   "execution_count": 1,
   "id": "04e8403e",
   "metadata": {
    "ExecuteTime": {
     "end_time": "2022-01-17T08:44:21.806411Z",
     "start_time": "2022-01-17T08:44:21.783411Z"
    }
   },
   "outputs": [],
   "source": [
    "import pandas as pd \n",
    "from sklearn.preprocessing import LabelEncoder\n",
    "from sklearn.preprocessing import OneHotEncoder\n",
    "from sklearn.preprocessing import OrdinalEncoder\n",
    "\n",
    "\n",
    "# TO  DO By Student \n",
    "\n",
    "# Download the dataset (use the file train.csv) from the above link (CSV file ) and  upload it to the jupyter notebook\n",
    "# read the file using pandas \n",
    "# Explore the data \n",
    "# Use suitable encoding on the features . You are responsible to find out which features needs which type of encoding  \n",
    "# Use pandas concat(as in example) to get the final dataframe \n",
    "# WRITE YOUR CODE DOWN HERE "
   ]
  }
 ],
 "metadata": {
  "kernelspec": {
   "display_name": "Python 3",
   "language": "python",
   "name": "python3"
  },
  "language_info": {
   "codemirror_mode": {
    "name": "ipython",
    "version": 3
   },
   "file_extension": ".py",
   "mimetype": "text/x-python",
   "name": "python",
   "nbconvert_exporter": "python",
   "pygments_lexer": "ipython3",
   "version": "3.8.8"
  },
  "latex_envs": {
   "LaTeX_envs_menu_present": true,
   "autoclose": false,
   "autocomplete": true,
   "bibliofile": "biblio.bib",
   "cite_by": "apalike",
   "current_citInitial": 1,
   "eqLabelWithNumbers": true,
   "eqNumInitial": 1,
   "hotkeys": {
    "equation": "Ctrl-E",
    "itemize": "Ctrl-I"
   },
   "labels_anchors": false,
   "latex_user_defs": false,
   "report_style_numbering": false,
   "user_envs_cfg": false
  },
  "toc": {
   "base_numbering": 1,
   "nav_menu": {},
   "number_sections": true,
   "sideBar": true,
   "skip_h1_title": false,
   "title_cell": "Table of Contents",
   "title_sidebar": "Contents",
   "toc_cell": false,
   "toc_position": {
    "height": "calc(100% - 180px)",
    "left": "10px",
    "top": "150px",
    "width": "384px"
   },
   "toc_section_display": true,
   "toc_window_display": true
  }
 },
 "nbformat": 4,
 "nbformat_minor": 5
}
